{
  "cells": [
    {
      "cell_type": "code",
      "execution_count": null,
      "metadata": {
        "id": "hSJNa6dIP_TZ"
      },
      "outputs": [],
      "source": [
        "import matplotlib.pyplot as plt\n",
        "import numpy as np\n",
        " \n",
        "#  サンプルデータ\n",
        "x = np.linspace(1, 500)\n",
        "y = np.log10(x)\n",
        "\n",
        "# プロット\n",
        "fig, ax = plt.subplots() \n",
        "ax.plot(x, y)\n",
        "plt.draw()\n",
        "plt.show()"
      ]
    },
    {
      "cell_type": "code",
      "source": [
        "# 0, 100, 200, 300, 400, 500の目盛りを維持したまま、任意の目盛りを追加\n",
        "\n",
        "fig, ax = plt.subplots() \n",
        "ax.plot(x, y)\n",
        "\n",
        "# 現時点の目盛り取得\n",
        "current_xt = []\n",
        "for xt in ax.get_xticklabels():\n",
        "  current_xt.append( int(xt.get_text().replace('−', '-')) )\n",
        "\n",
        "print(current_xt)\n",
        "\n",
        "# 表示されていない両端除去\n",
        "current_xt.pop(0)\n",
        "current_xt.pop(-1)\n",
        "\n",
        "# 指定の目盛りを追加\n",
        "add_xt = 250\n",
        "current_xt.append(add_xt)\n",
        "\n",
        "# 目盛りに追加\n",
        "ax.set_xticks(current_xt)\n",
        "\n",
        "# 表示\n",
        "plt.show()"
      ],
      "metadata": {
        "id": "FLDTFFk0vT5C"
      },
      "execution_count": null,
      "outputs": []
    }
  ],
  "metadata": {
    "colab": {
      "provenance": []
    },
    "gpuClass": "standard",
    "kernelspec": {
      "display_name": "Python 3",
      "name": "python3"
    },
    "language_info": {
      "name": "python"
    },
    "orig_nbformat": 4
  },
  "nbformat": 4,
  "nbformat_minor": 0
}