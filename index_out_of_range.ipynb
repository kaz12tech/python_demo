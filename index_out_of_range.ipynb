{
  "cells": [
    {
      "cell_type": "code",
      "execution_count": null,
      "metadata": {
        "colab": {
          "base_uri": "https://localhost:8080/",
          "height": 284
        },
        "id": "3w6UZ9kB-QjW",
        "outputId": "aed79834-27fe-4a67-fa25-0165b94903c1"
      },
      "outputs": [],
      "source": [
        "my_list = ['a', 'b', 'c']\n",
        "\n",
        "print(len(my_list)) # 3\n",
        "print(my_list[0])   # a\n",
        "print(my_list[-1])  # c\n",
        "print(my_list[-3])  # a\n",
        "\n",
        "print(my_list[3])   # IndexError: list index out of range\n",
        "print(my_list[-4])  # IndexError: list index out of range"
      ]
    },
    {
      "cell_type": "code",
      "execution_count": null,
      "metadata": {
        "colab": {
          "base_uri": "https://localhost:8080/",
          "height": 302
        },
        "id": "yJ1HdQRy_hhH",
        "outputId": "acb44dd8-161c-4329-b45a-d2f6b03dc28a"
      },
      "outputs": [],
      "source": [
        "my_string = \"Hello! world\"\n",
        "\n",
        "print(len(my_string)) # 12\n",
        "print(my_string[0])   # H\n",
        "print(my_string[11])  # d\n",
        "print(my_string[-1])  # d\n",
        "print(my_string[-12]) # H\n",
        "\n",
        "print(my_string[12])  # IndexError: string index out of range\n",
        "print(my_string[-13]) # IndexError: string index out of range"
      ]
    },
    {
      "cell_type": "code",
      "execution_count": null,
      "metadata": {
        "colab": {
          "base_uri": "https://localhost:8080/"
        },
        "id": "W-9UMsE5P8U2",
        "outputId": "3b47d288-cb52-4558-ce9c-3a084d89d3d0"
      },
      "outputs": [],
      "source": [
        "my_list = ['a', 'b', 'c']\n",
        "\n",
        "list_len = len(my_list)\n",
        "\n",
        "indexs = [0,1,2,3]\n",
        "\n",
        "for i in indexs:\n",
        "  if i < list_len:\n",
        "    print('accessible. index:', i)\n",
        "    print(my_list[-i])\n",
        "  else:\n",
        "    print('inaccessible. index:', i)"
      ]
    }
  ],
  "metadata": {
    "colab": {
      "provenance": []
    },
    "gpuClass": "standard",
    "kernelspec": {
      "display_name": "Python 3",
      "name": "python3"
    },
    "language_info": {
      "name": "python"
    },
    "orig_nbformat": 4
  },
  "nbformat": 4,
  "nbformat_minor": 0
}
