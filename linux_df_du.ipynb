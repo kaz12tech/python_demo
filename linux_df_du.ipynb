{
  "cells": [
    {
      "cell_type": "code",
      "execution_count": null,
      "metadata": {
        "colab": {
          "base_uri": "https://localhost:8080/"
        },
        "id": "kWtKt08WNCBN",
        "outputId": "8d291b76-24d9-4561-b8da-7616f61455f5"
      },
      "outputs": [],
      "source": [
        "# 使用中のディスク容量と空き容量を確認\n",
        "# -h --human-readable M,Gなどサイズ文字を付与\n",
        "!df -h"
      ]
    },
    {
      "cell_type": "code",
      "execution_count": null,
      "metadata": {
        "id": "9GB5llfSNi7c"
      },
      "outputs": [],
      "source": [
        "!df --help"
      ]
    },
    {
      "cell_type": "code",
      "execution_count": null,
      "metadata": {
        "id": "fPrltEuPOC3C"
      },
      "outputs": [],
      "source": [
        "# ファイルシステムのディスク容量を表示\n",
        "\n",
        "# / 直下のすべてのファイルサイズを表示\n",
        "!du -h /"
      ]
    },
    {
      "cell_type": "code",
      "execution_count": null,
      "metadata": {
        "colab": {
          "base_uri": "https://localhost:8080/"
        },
        "id": "esMmAE3lOw7E",
        "outputId": "38d9f472-4341-419f-f04c-eb8135100c99"
      },
      "outputs": [],
      "source": [
        "# -d --max-depth 指定の階層数でまとめて出力\n",
        "!du -h -d 1 /"
      ]
    },
    {
      "cell_type": "code",
      "execution_count": null,
      "metadata": {
        "id": "tNLsIMsuPS6p"
      },
      "outputs": [],
      "source": [
        "# -s --summarize ディスク容量を合計\n",
        "!du -h -s /"
      ]
    },
    {
      "cell_type": "code",
      "execution_count": null,
      "metadata": {
        "colab": {
          "base_uri": "https://localhost:8080/"
        },
        "id": "hSJNa6dIP_TZ",
        "outputId": "bf4c3c82-1351-4023-9b63-90d1a0948ac3"
      },
      "outputs": [],
      "source": [
        "# -d --max-depth 指定の階層数でまとめて出力\n",
        "# 出力結果を降順(大きい順)でソート\n",
        "!du -h -d 1 / | sort -h -r"
      ]
    }
  ],
  "metadata": {
    "colab": {
      "collapsed_sections": [],
      "name": "linux_df_du.ipynb",
      "provenance": []
    },
    "gpuClass": "standard",
    "kernelspec": {
      "display_name": "Python 3",
      "name": "python3"
    },
    "language_info": {
      "name": "python"
    },
    "orig_nbformat": 4
  },
  "nbformat": 4,
  "nbformat_minor": 0
}
