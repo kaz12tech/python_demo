{
  "cells": [
    {
      "cell_type": "code",
      "execution_count": null,
      "metadata": {
        "colab": {
          "base_uri": "https://localhost:8080/"
        },
        "id": "kWtKt08WNCBN",
        "outputId": "ab5bc4ee-23d8-4224-a82a-3fbdc93133f2"
      },
      "outputs": [],
      "source": [
        "# 使用中のディスク容量と空き容量を確認\n",
        "# -h --human-readable M,Gなどサイズ文字を付与\n",
        "!df -h"
      ]
    },
    {
      "cell_type": "code",
      "execution_count": null,
      "metadata": {
        "colab": {
          "base_uri": "https://localhost:8080/"
        },
        "id": "zlLrw57D9VNa",
        "outputId": "75fc048c-2d0e-4278-b34d-542c5f38b77f"
      },
      "outputs": [],
      "source": [
        "# 使用中のディスク容量と空き容量を確認\n",
        "# -h --human-readable M,Gなどサイズ文字を付与\n",
        "!df -h /content/"
      ]
    },
    {
      "cell_type": "code",
      "execution_count": null,
      "metadata": {
        "colab": {
          "base_uri": "https://localhost:8080/"
        },
        "id": "9GB5llfSNi7c",
        "outputId": "027f0838-4918-4941-a158-2fce61be2a07"
      },
      "outputs": [],
      "source": [
        "!df --help"
      ]
    },
    {
      "cell_type": "code",
      "execution_count": null,
      "metadata": {
        "colab": {
          "base_uri": "https://localhost:8080/"
        },
        "id": "fPrltEuPOC3C",
        "outputId": "fcafc9f8-be4a-4427-f8f9-c3d8be9cc7d6"
      },
      "outputs": [],
      "source": [
        "# ファイルシステムのディスク容量を表示\n",
        "\n",
        "# /content 直下のファイル、ディレクトリのサイズを表示\n",
        "!du -h /content"
      ]
    },
    {
      "cell_type": "code",
      "execution_count": null,
      "metadata": {
        "colab": {
          "base_uri": "https://localhost:8080/"
        },
        "id": "esMmAE3lOw7E",
        "outputId": "23462fa6-7e81-43ab-ea8c-ad719b722368"
      },
      "outputs": [],
      "source": [
        "# -d --max-depth 指定の階層数でまとめて出力\n",
        "!du -h -d 1 /content"
      ]
    },
    {
      "cell_type": "code",
      "execution_count": null,
      "metadata": {
        "colab": {
          "base_uri": "https://localhost:8080/"
        },
        "id": "tNLsIMsuPS6p",
        "outputId": "0a8b339c-a0ae-4ad0-c78f-96bbdabd9e4d"
      },
      "outputs": [],
      "source": [
        "# -s --summarize ディスク容量を合計\n",
        "!du -h -s /content"
      ]
    },
    {
      "cell_type": "code",
      "execution_count": null,
      "metadata": {
        "colab": {
          "base_uri": "https://localhost:8080/"
        },
        "id": "hSJNa6dIP_TZ",
        "outputId": "b080f987-f506-4eb4-f739-442f1aa453ca"
      },
      "outputs": [],
      "source": [
        "# -d --max-depth 指定の階層数でまとめて出力\n",
        "# 出力結果を降順(大きい順)でソート\n",
        "!du -h -d 1 /usr | sort -h -r"
      ]
    }
  ],
  "metadata": {
    "colab": {
      "collapsed_sections": [],
      "name": "linux_df_du.ipynb",
      "provenance": []
    },
    "gpuClass": "standard",
    "kernelspec": {
      "display_name": "Python 3",
      "name": "python3"
    },
    "language_info": {
      "name": "python"
    },
    "orig_nbformat": 4
  },
  "nbformat": 4,
  "nbformat_minor": 0
}
