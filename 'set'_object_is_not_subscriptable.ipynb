{
  "cells": [
    {
      "cell_type": "code",
      "execution_count": null,
      "metadata": {
        "id": "3w6UZ9kB-QjW"
      },
      "outputs": [],
      "source": [
        "my_set = {0, 1, 2}\n",
        "my_list = [0, 1, 2]"
      ]
    },
    {
      "cell_type": "code",
      "execution_count": null,
      "metadata": {
        "colab": {
          "base_uri": "https://localhost:8080/"
        },
        "id": "yJ1HdQRy_hhH",
        "outputId": "df522008-4a0c-42ad-86fc-051a441e6c17"
      },
      "outputs": [],
      "source": [
        "print(type(my_list))\n",
        "my_list[0]"
      ]
    },
    {
      "cell_type": "code",
      "execution_count": null,
      "metadata": {
        "colab": {
          "base_uri": "https://localhost:8080/",
          "height": 211
        },
        "id": "W-9UMsE5P8U2",
        "outputId": "078f2145-4cd9-466b-fda0-aa06c48b60ba"
      },
      "outputs": [],
      "source": [
        "print(type(my_set))\n",
        "my_set[0]"
      ]
    }
  ],
  "metadata": {
    "colab": {
      "provenance": []
    },
    "gpuClass": "standard",
    "kernelspec": {
      "display_name": "Python 3",
      "language": "python",
      "name": "python3"
    },
    "language_info": {
      "name": "python",
      "version": "3.10.4 (tags/v3.10.4:9d38120, Mar 23 2022, 23:13:41) [MSC v.1929 64 bit (AMD64)]"
    },
    "orig_nbformat": 4,
    "vscode": {
      "interpreter": {
        "hash": "69158ccfe43d0b962045f592ede11796dd42f250837ab62152c8bc6cd100a15b"
      }
    }
  },
  "nbformat": 4,
  "nbformat_minor": 0
}
