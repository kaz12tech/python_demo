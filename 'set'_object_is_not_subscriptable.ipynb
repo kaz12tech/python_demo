{
  "cells": [
    {
      "cell_type": "code",
      "execution_count": null,
      "metadata": {
        "id": "3w6UZ9kB-QjW"
      },
      "outputs": [],
      "source": [
        "my_dict = {0, 1, 2}\n",
        "my_list = [0, 1, 2]"
      ]
    },
    {
      "cell_type": "code",
      "execution_count": null,
      "metadata": {
        "colab": {
          "base_uri": "https://localhost:8080/"
        },
        "id": "yJ1HdQRy_hhH",
        "outputId": "79ded10c-736b-4acf-e536-fa31d6f8be2f"
      },
      "outputs": [],
      "source": [
        "print(type(my_list))\n",
        "my_list[0]"
      ]
    },
    {
      "cell_type": "code",
      "execution_count": null,
      "metadata": {
        "colab": {
          "base_uri": "https://localhost:8080/",
          "height": 211
        },
        "id": "W-9UMsE5P8U2",
        "outputId": "72608a30-54c6-4032-fa06-80474da8bc86"
      },
      "outputs": [],
      "source": [
        "print(type(my_dict))\n",
        "my_dict[0]"
      ]
    }
  ],
  "metadata": {
    "colab": {
      "provenance": []
    },
    "gpuClass": "standard",
    "kernelspec": {
      "display_name": "Python 3",
      "name": "python3"
    },
    "language_info": {
      "name": "python"
    },
    "orig_nbformat": 4
  },
  "nbformat": 4,
  "nbformat_minor": 0
}
