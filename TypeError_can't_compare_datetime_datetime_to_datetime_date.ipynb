{
  "cells": [
    {
      "cell_type": "code",
      "execution_count": null,
      "metadata": {
        "colab": {
          "base_uri": "https://localhost:8080/"
        },
        "id": "YsH3UC70ZaJl",
        "outputId": "b0fe47e2-657d-428a-ad64-92e72becba86"
      },
      "outputs": [],
      "source": [
        "import datetime\n",
        "\n",
        "datetime_1 = datetime.datetime.now()\n",
        "print(datetime_1, \"type:\", type(datetime_1))\n",
        "# 2022-06-14 13:52:08.967019 type: <class 'datetime.datetime'>\n",
        "\n",
        "datetime_2 = datetime.datetime(2022, 6, 1)\n",
        "print(datetime_2, \"type:\", type(datetime_2))\n",
        "# 2022-06-01 00:00:00 type: <class 'datetime.datetime'>\n",
        "\n",
        "date_1 = datetime_1.date()\n",
        "print(date_1, \"type:\", type(date_1))\n",
        "# 2022-06-14 type: <class 'datetime.date'>\n",
        "\n",
        "date_2 = datetime.date(2022, 6, 1)\n",
        "print(date_2, \"type:\", type(date_2))\n",
        "# 2022-06-01 type: <class 'datetime.date'>"
      ]
    },
    {
      "cell_type": "code",
      "execution_count": null,
      "metadata": {
        "colab": {
          "base_uri": "https://localhost:8080/",
          "height": 193
        },
        "id": "AgaMSEYIfJgY",
        "outputId": "1ebc31e8-caff-490a-c203-b29af6a76be0"
      },
      "outputs": [],
      "source": [
        "if datetime_1 > date_2: # TypeError: can't compare datetime.datetime to datetime.date\n",
        "  pass"
      ]
    },
    {
      "cell_type": "code",
      "execution_count": null,
      "metadata": {
        "colab": {
          "base_uri": "https://localhost:8080/"
        },
        "id": "9_xdHyQnffsH",
        "outputId": "b9595cb1-dd72-4d53-e4e4-d339680593df"
      },
      "outputs": [],
      "source": [
        "# datetime -> date\n",
        "if datetime_1.date() > date_2:\n",
        "  print('ok')"
      ]
    },
    {
      "cell_type": "code",
      "execution_count": null,
      "metadata": {
        "colab": {
          "base_uri": "https://localhost:8080/"
        },
        "id": "7tqdQmhRglqM",
        "outputId": "ac559f50-754a-486b-b114-6707d534c7ac"
      },
      "outputs": [],
      "source": [
        "# date -> datetime\n",
        "if datetime_1 > datetime.datetime(date_2.year, date_2.month, date_2.day):\n",
        "  print('ok')"
      ]
    },
    {
      "cell_type": "code",
      "execution_count": null,
      "metadata": {
        "colab": {
          "base_uri": "https://localhost:8080/"
        },
        "id": "WMcHEEBaf85H",
        "outputId": "2cd77fd1-e8a5-45a8-8cc2-477f589c6a21"
      },
      "outputs": [],
      "source": [
        "if datetime_1 == date_1: # エラーにはならないがFalse\n",
        "  print('ok')\n",
        "else:\n",
        "  print('ng')"
      ]
    },
    {
      "cell_type": "code",
      "execution_count": null,
      "metadata": {
        "colab": {
          "base_uri": "https://localhost:8080/"
        },
        "id": "FIBUHVnsgV6v",
        "outputId": "764828e3-7ff4-48c1-e49c-892d12349afe"
      },
      "outputs": [],
      "source": [
        "if datetime_1.date() == date_1: # 日付までが等しければTrue\n",
        "  print('ok')\n",
        "else:\n",
        "  print('ng')"
      ]
    }
  ],
  "metadata": {
    "colab": {
      "collapsed_sections": [],
      "name": "TypeError: can't compare datetime.datetime to datetime.date.ipynb",
      "provenance": []
    },
    "gpuClass": "standard",
    "kernelspec": {
      "display_name": "Python 3",
      "name": "python3"
    },
    "language_info": {
      "name": "python"
    },
    "orig_nbformat": 4
  },
  "nbformat": 4,
  "nbformat_minor": 0
}
